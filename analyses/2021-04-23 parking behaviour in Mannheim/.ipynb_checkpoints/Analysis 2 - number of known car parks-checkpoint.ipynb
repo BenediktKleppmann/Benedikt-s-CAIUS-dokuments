{
 "cells": [
  {
   "cell_type": "code",
   "execution_count": 2,
   "metadata": {},
   "outputs": [
    {
     "name": "stderr",
     "output_type": "stream",
     "text": [
      "c:\\programdata\\miniconda3\\lib\\site-packages\\numpy\\_distributor_init.py:32: UserWarning: loaded more than 1 DLL from .libs:\n",
      "c:\\programdata\\miniconda3\\lib\\site-packages\\numpy\\.libs\\libopenblas.GK7GX5KEQ4F6UYO3P26ULGBQYHGQO7J4.gfortran-win_amd64.dll\n",
      "c:\\programdata\\miniconda3\\lib\\site-packages\\numpy\\.libs\\libopenblas.TXA6YQSD3GCQQC22GEQ54J2UDCXDXHWN.gfortran-win_amd64.dll\n",
      "  stacklevel=1)\n"
     ]
    }
   ],
   "source": [
    "import random\n",
    "import math\n",
    "import numpy as np\n",
    "from scipy.stats import rice\n",
    "import matplotlib.pyplot as plt\n",
    "import pandas as pd\n",
    "from scipy.stats import multivariate_normal"
   ]
  },
  {
   "cell_type": "markdown",
   "metadata": {},
   "source": [
    "# Part 1: Run the model"
   ]
  },
  {
   "cell_type": "markdown",
   "metadata": {},
   "source": [
    "### data prep"
   ]
  },
  {
   "cell_type": "code",
   "execution_count": 9,
   "metadata": {},
   "outputs": [],
   "source": [
    "parkhaus_locations_df = pd.read_csv('parkhaus_locations.csv')\n",
    "\n",
    "# demand_due_to_cost\n",
    "parkhaus_locations_df['expected_cost'] = parkhaus_locations_df['cost 0-15 min']*0.05 \\\n",
    "                                        + parkhaus_locations_df['cost 15-30 min']*0.05 \\\n",
    "                                        + parkhaus_locations_df['cost 31-60 min']*0.1 \\\n",
    "                                        + parkhaus_locations_df['cost 1-2 hours']*0.21 \\\n",
    "                                        + parkhaus_locations_df['cost 2-3 hours']*0.47 \\\n",
    "                                        + parkhaus_locations_df['cost 3-4 hours']*0.09 \\\n",
    "                                        + parkhaus_locations_df['cost 4-5 hours']*0.024 \\\n",
    "                                        + parkhaus_locations_df['cost 5-6 hours']*0.006 \n",
    "parkhaus_locations_df['demand_due_to_cost'] = 0.9632 -0.2247*parkhaus_locations_df['expected_cost'] + 0.01627*parkhaus_locations_df['expected_cost']*parkhaus_locations_df['expected_cost']\n",
    "parkhaus_locations_df['demand_due_to_cost'] = parkhaus_locations_df['demand_due_to_cost'] * 350\n",
    "\n",
    "\n",
    "# demand_due_to_location\n",
    "normal_dist = multivariate_normal([8.467546, 49.489634], [[0.0000304304, 0], [0, 0.0000530395]])\n",
    "parkhaus_locations_df['demand_due_to_location'] = 0\n",
    "for index, row in parkhaus_locations_df.iterrows():\n",
    "    parkhaus_locations_df.loc[index,'demand_due_to_location'] = normal_dist.pdf([row['latitude'], row['longitude']])\n",
    "parkhaus_locations_df['demand_due_to_location'] = parkhaus_locations_df['demand_due_to_location']/15  \n",
    "\n",
    "\n",
    "# attractivity\n",
    "parkhaus_locations_df['log_attractivity'] = -16.1486 + 1.5817*parkhaus_locations_df['demand_due_to_cost'] + 0.1143*parkhaus_locations_df['demand_due_to_location']\n",
    "parkhaus_locations_df['attractivity'] = np.exp(parkhaus_locations_df['log_attractivity'])"
   ]
  },
  {
   "cell_type": "code",
   "execution_count": 10,
   "metadata": {},
   "outputs": [],
   "source": [
    "# correct_distribution_of_parkers\n",
    "parkhaus_occupancies_df = pd.read_csv('all_parkhaus_occupancies.csv')\n",
    "monday_lunch_time_df = parkhaus_occupancies_df[parkhaus_occupancies_df['Zeit']=='19.04.2021, 11:30 Uhr']\n",
    "monday_lunch_time_df = pd.merge(monday_lunch_time_df, parkhaus_locations_df, on='parkhaus_name', how='inner')\n",
    "monday_lunch_time_df = monday_lunch_time_df[['parkhaus_name', 'parkhaus_occupancy']]\n",
    "number_of_drivers = monday_lunch_time_df['parkhaus_occupancy'].sum()\n",
    "\n",
    "evaluation_data = monday_lunch_time_df\n",
    "evaluation_data['index'] = ['true_occupancy_car_park_' + str(index_val) for index_val in evaluation_data.index]\n",
    "evaluation_data.index=[0]*len(evaluation_data)\n",
    "evaluation_data = evaluation_data.pivot(index=None, columns='index', values='parkhaus_occupancy')"
   ]
  },
  {
   "cell_type": "code",
   "execution_count": 11,
   "metadata": {},
   "outputs": [],
   "source": [
    "# other\n",
    "car_parks_indexes = parkhaus_locations_df.index\n",
    "weights = list(parkhaus_locations_df['accessibility'])\n"
   ]
  },
  {
   "cell_type": "markdown",
   "metadata": {},
   "source": [
    "###  The Model"
   ]
  },
  {
   "cell_type": "code",
   "execution_count": 12,
   "metadata": {},
   "outputs": [
    {
     "name": "stdout",
     "output_type": "stream",
     "text": [
      "--- 0 --------------------------------\n",
      "--- 1 --------------------------------\n",
      "--- 2 --------------------------------\n",
      "--- 3 --------------------------------\n",
      "--- 4 --------------------------------\n"
     ]
    }
   ],
   "source": [
    "nb_of_parameters_to_test = 5\n",
    "all_car_park_occupancies = []\n",
    "for run_id in range(nb_of_parameters_to_test):\n",
    "    print('--- %s --------------------------------' % run_id)\n",
    "    number_of_viewed_car_parks = random.choices(range(1,11), k=1)[0]\n",
    "    car_park_occupancies = {'simulated_occupancy_car_park_' + str(car_park_id):0 for car_park_id in range(20)}\n",
    "    car_park_occupancies['number_of_viewed_car_parks'] = number_of_viewed_car_parks\n",
    "    for driver_id in range(number_of_drivers):\n",
    "\n",
    "        chosen_indexes = random.choices(car_parks_indexes, weights=weights, k=int(number_of_viewed_car_parks))\n",
    "        chosen_id = int(parkhaus_locations_df.loc[chosen_indexes,['attractivity']].idxmax())\n",
    "        car_park_occupancies['simulated_occupancy_car_park_' + str(chosen_id)] += 1\n",
    "\n",
    "    all_car_park_occupancies.append(car_park_occupancies)"
   ]
  },
  {
   "cell_type": "code",
   "execution_count": 13,
   "metadata": {},
   "outputs": [],
   "source": [
    "all_car_park_occupancies_df = pd.DataFrame(all_car_park_occupancies)\n",
    "all_car_park_occupancies_df['index'] = 0\n",
    "evaluation_data['index'] = 0\n",
    "\n",
    "scores_df = pd.merge(all_car_park_occupancies_df, evaluation_data, on='index')\n",
    "scores_df['nb_of_wrongly_parked'] =    np.abs(scores_df['simulated_occupancy_car_park_0'] - scores_df['true_occupancy_car_park_0']) \\\n",
    "                                     + np.abs(scores_df['simulated_occupancy_car_park_1'] - scores_df['true_occupancy_car_park_1']) \\\n",
    "                                     + np.abs(scores_df['simulated_occupancy_car_park_2'] - scores_df['true_occupancy_car_park_2']) \\\n",
    "                                     + np.abs(scores_df['simulated_occupancy_car_park_3'] - scores_df['true_occupancy_car_park_3']) \\\n",
    "                                     + np.abs(scores_df['simulated_occupancy_car_park_4'] - scores_df['true_occupancy_car_park_4']) \\\n",
    "                                     + np.abs(scores_df['simulated_occupancy_car_park_5'] - scores_df['true_occupancy_car_park_5']) \\\n",
    "                                     + np.abs(scores_df['simulated_occupancy_car_park_6'] - scores_df['true_occupancy_car_park_6']) \\\n",
    "                                     + np.abs(scores_df['simulated_occupancy_car_park_7'] - scores_df['true_occupancy_car_park_7']) \\\n",
    "                                     + np.abs(scores_df['simulated_occupancy_car_park_8'] - scores_df['true_occupancy_car_park_8']) \\\n",
    "                                     + np.abs(scores_df['simulated_occupancy_car_park_9'] - scores_df['true_occupancy_car_park_9']) \\\n",
    "                                     + np.abs(scores_df['simulated_occupancy_car_park_10'] - scores_df['true_occupancy_car_park_10']) \\\n",
    "                                     + np.abs(scores_df['simulated_occupancy_car_park_11'] - scores_df['true_occupancy_car_park_11']) \\\n",
    "                                     + np.abs(scores_df['simulated_occupancy_car_park_12'] - scores_df['true_occupancy_car_park_12']) \\\n",
    "                                     + np.abs(scores_df['simulated_occupancy_car_park_13'] - scores_df['true_occupancy_car_park_13']) \\\n",
    "                                     + np.abs(scores_df['simulated_occupancy_car_park_14'] - scores_df['true_occupancy_car_park_14']) \\\n",
    "                                     + np.abs(scores_df['simulated_occupancy_car_park_15'] - scores_df['true_occupancy_car_park_15']) \\\n",
    "                                     + np.abs(scores_df['simulated_occupancy_car_park_16'] - scores_df['true_occupancy_car_park_16']) \\\n",
    "                                     + np.abs(scores_df['simulated_occupancy_car_park_17'] - scores_df['true_occupancy_car_park_17']) \\\n",
    "                                     + np.abs(scores_df['simulated_occupancy_car_park_18'] - scores_df['true_occupancy_car_park_18']) \\\n",
    "                                     + np.abs(scores_df['simulated_occupancy_car_park_19'] - scores_df['true_occupancy_car_park_19']) "
   ]
  },
  {
   "cell_type": "code",
   "execution_count": 14,
   "metadata": {},
   "outputs": [],
   "source": [
    "scores_df.to_csv('ABC scores/first_29.csv', index=False)"
   ]
  },
  {
   "cell_type": "markdown",
   "metadata": {},
   "source": [
    "# Part 2: Evaluation of results"
   ]
  },
  {
   "cell_type": "markdown",
   "metadata": {},
   "source": [
    "### Histograms"
   ]
  },
  {
   "cell_type": "code",
   "execution_count": 15,
   "metadata": {},
   "outputs": [],
   "source": [
    "first_2000_df = pd.read_csv('ABC scores/first_29.csv')\n",
    "# first_2000_df = pd.read_csv('ABC scores/first_2000.csv')\n"
   ]
  },
  {
   "cell_type": "code",
   "execution_count": 16,
   "metadata": {},
   "outputs": [],
   "source": [
    "first_2000_df = scores_df"
   ]
  },
  {
   "cell_type": "code",
   "execution_count": 22,
   "metadata": {},
   "outputs": [
    {
     "data": {
      "image/png": "[encoded data removed]",
      "text/plain": [
       "<Figure size 432x288 with 1 Axes>"
      ]
     },
     "metadata": {
      "needs_background": "light"
     },
     "output_type": "display_data"
    }
   ],
   "source": [
    "those_with_good_scores_df = first_2000_df[first_2000_df['nb_of_wrongly_parked']<4000]\n",
    "ax = those_with_good_scores_df['number_of_viewed_car_parks'].plot.hist(bins=[1,2,3,4,5,6,7,8,9,10,11], alpha=0.5)"
   ]
  },
  {
   "cell_type": "code",
   "execution_count": 19,
   "metadata": {
    "scrolled": true
   },
   "outputs": [
    {
     "data": {
      "image/png": "[encoded data removed]",
      "text/plain": [
       "<Figure size 432x288 with 1 Axes>"
      ]
     },
     "metadata": {
      "needs_background": "light"
     },
     "output_type": "display_data"
    }
   ],
   "source": [
    "ax = first_2000_df['number_of_viewed_car_parks'].plot.hist(bins=[1,2,3,4,5,6,7,8,9,10,11], alpha=0.5)"
   ]
  },
  {
   "cell_type": "markdown",
   "metadata": {},
   "source": [
    "### Inspecting single result"
   ]
  },
  {
   "cell_type": "code",
   "execution_count": 23,
   "metadata": {},
   "outputs": [],
   "source": [
    "row_of_interest_df = first_2000_df[first_2000_df['number_of_viewed_car_parks']==7]\n",
    "simulated_occupancy_numbers = []\n",
    "for car_park_id in range(20):\n",
    "    simulated_occupancy_numbers.append(int(row_of_interest_df['simulated_occupancy_car_park_' + str(car_park_id)]))"
   ]
  },
  {
   "cell_type": "code",
   "execution_count": 24,
   "metadata": {},
   "outputs": [],
   "source": [
    "parkhaus_locations_df['simulated_occupancies'] = simulated_occupancy_numbers\n",
    "parkhaus_locations_df['adjusted_longitude'] = [(long- 49.483)*150 for long in parkhaus_locations_df['longitude'] ]\n",
    "parkhaus_locations_df['adjusted_latitude'] =  (parkhaus_locations_df['latitude'] - 8.459)*100"
   ]
  },
  {
   "cell_type": "code",
   "execution_count": 25,
   "metadata": {},
   "outputs": [
    {
     "data": {
      "image/png": "[encoded data removed]",
      "text/plain": [
       "<Figure size 432x288 with 2 Axes>"
      ]
     },
     "metadata": {
      "needs_background": "light"
     },
     "output_type": "display_data"
    }
   ],
   "source": [
    "parkhaus_locations_df.plot.scatter(x=\"adjusted_latitude\", y=\"adjusted_longitude\", c=\"simulated_occupancies\",cmap=plt.get_cmap(\"Blues\"));"
   ]
  },
  {
   "cell_type": "code",
   "execution_count": 83,
   "metadata": {},
   "outputs": [
    {
     "data": {
      "text/plain": [
       "Index(['parkhaus_name', 'longitude', 'latitude', 'total_number_of_places',\n",
       "       'cost 0-15 min', 'cost 15-30 min', 'cost 31-60 min', 'cost 1-2 hours',\n",
       "       'cost 2-3 hours', 'cost 3-4 hours', 'cost 4-5 hours', 'cost 5-6 hours',\n",
       "       'cost 6-7 hours', 'cost 7-8 hours', 'cost 8-9 hours', 'cost 9-10 hours',\n",
       "       'cost 10-11 hours', 'cost 11-12 hours', 'cost 12-13 hours',\n",
       "       'accessibility', 'expected_cost', 'attractivity_due_to_cost',\n",
       "       'attractivity_due_to_location', 'attractivity',\n",
       "       'simulated_occupancies'],\n",
       "      dtype='object')"
      ]
     },
     "execution_count": 83,
     "metadata": {},
     "output_type": "execute_result"
    }
   ],
   "source": [
    "parkhaus_locations_df.columns"
   ]
  },
  {
   "cell_type": "code",
   "execution_count": null,
   "metadata": {},
   "outputs": [],
   "source": []
  },
  {
   "cell_type": "code",
   "execution_count": null,
   "metadata": {},
   "outputs": [],
   "source": []
  },
  {
   "cell_type": "code",
   "execution_count": null,
   "metadata": {},
   "outputs": [],
   "source": []
  }
 ],
 "metadata": {
  "kernelspec": {
   "display_name": "Python 3",
   "language": "python",
   "name": "python3"
  },
  "language_info": {
   "codemirror_mode": {
    "name": "ipython",
    "version": 3
   },
   "file_extension": ".py",
   "mimetype": "text/x-python",
   "name": "python",
   "nbconvert_exporter": "python",
   "pygments_lexer": "ipython3",
   "version": "3.8.5"
  }
 },
 "nbformat": 4,
 "nbformat_minor": 2
}
